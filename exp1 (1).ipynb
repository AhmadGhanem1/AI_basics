{
  "nbformat": 4,
  "nbformat_minor": 0,
  "metadata": {
    "colab": {
      "provenance": []
    },
    "kernelspec": {
      "name": "python3",
      "display_name": "Python 3"
    },
    "language_info": {
      "name": "python"
    }
  },
  "cells": [
    {
      "cell_type": "markdown",
      "source": [
        "**EXPIREMENT 1**"
      ],
      "metadata": {
        "id": "avm-KMLu-hgs"
      }
    },
    {
      "cell_type": "code",
      "source": [
        "import pandas as pd"
      ],
      "metadata": {
        "id": "_1igKqzpCTUl"
      },
      "execution_count": null,
      "outputs": []
    },
    {
      "cell_type": "code",
      "execution_count": null,
      "metadata": {
        "colab": {
          "base_uri": "https://localhost:8080/"
        },
        "id": "ryNZGtFO-Ukd",
        "outputId": "0e00a933-8d37-4df6-e988-d9262d142823"
      },
      "outputs": [
        {
          "output_type": "stream",
          "name": "stdout",
          "text": [
            "0    1\n",
            "1    7\n",
            "2    2\n",
            "dtype: int64\n"
          ]
        }
      ],
      "source": [
        "\n",
        "# create a simple list\n",
        "a = [1, 7, 2]\n",
        "# create series from a list\n",
        "my_Series = pd.Series(a)\n",
        "print(my_Series)\n"
      ]
    },
    {
      "cell_type": "code",
      "source": [
        "import pandas as pd\n",
        "# a simple dictionary\n",
        "calories = {\"day1\": 420, \"day2\": 380, \"day3\": 390}\n",
        "# create series from dictionary\n",
        "my_Series = pd.Series(calories)\n",
        "print(my_Series)\n"
      ],
      "metadata": {
        "colab": {
          "base_uri": "https://localhost:8080/"
        },
        "id": "deyQULXpA7dZ",
        "outputId": "e4a424e0-4026-4b9b-f6c7-506ee8497e11"
      },
      "execution_count": null,
      "outputs": [
        {
          "output_type": "stream",
          "name": "stdout",
          "text": [
            "day1    420\n",
            "day2    380\n",
            "day3    390\n",
            "dtype: int64\n"
          ]
        }
      ]
    },
    {
      "cell_type": "code",
      "source": [
        "import pandas as pd\n",
        "# Initialize data to a series.\n",
        "d = pd.Series([10, 20, 30, 40])\n",
        "# creates Dataframe.\n",
        "df = pd.DataFrame(d)\n",
        "# print the data.\n",
        "print(df)"
      ],
      "metadata": {
        "colab": {
          "base_uri": "https://localhost:8080/"
        },
        "id": "e95SmcFLBZho",
        "outputId": "979d140b-470d-4bd5-bd18-b7c8d10f7339"
      },
      "execution_count": null,
      "outputs": [
        {
          "output_type": "stream",
          "name": "stdout",
          "text": [
            "    0\n",
            "0  10\n",
            "1  20\n",
            "2  30\n",
            "3  40\n"
          ]
        }
      ]
    },
    {
      "cell_type": "code",
      "source": [
        "import pandas as pd\n",
        "# initialize the data of lists.\n",
        "data = {'Name': ['Ahmad', 'Ali', 'Omar', 'Hamzah'],\n",
        "'Age': [20, 21, 19, 18]}\n",
        "# Create DataFrame\n",
        "df = pd.DataFrame(data)\n",
        "# Print the output.\n",
        "print(df)\n"
      ],
      "metadata": {
        "colab": {
          "base_uri": "https://localhost:8080/"
        },
        "id": "pDqhJNpvBoJm",
        "outputId": "b989c828-9513-422a-8a61-d3518a0ee785"
      },
      "execution_count": null,
      "outputs": [
        {
          "output_type": "stream",
          "name": "stdout",
          "text": [
            "     Name  Age\n",
            "0   Ahmad   20\n",
            "1     Ali   21\n",
            "2    Omar   19\n",
            "3  Hamzah   18\n"
          ]
        }
      ]
    },
    {
      "cell_type": "code",
      "source": [
        "import pandas as pd\n",
        "data = {\n",
        "\"calories\": [420, 380, 390],\n",
        "\"duration\": [50, 40, 45]\n",
        "}\n",
        "myvar = pd.DataFrame(data)\n",
        "print(myvar)"
      ],
      "metadata": {
        "colab": {
          "base_uri": "https://localhost:8080/"
        },
        "id": "aoq0ZFO8Bx2f",
        "outputId": "a6398444-8ca5-40b0-f594-f150d1f38f89"
      },
      "execution_count": null,
      "outputs": [
        {
          "output_type": "stream",
          "name": "stdout",
          "text": [
            "   calories  duration\n",
            "0       420        50\n",
            "1       380        40\n",
            "2       390        45\n"
          ]
        }
      ]
    },
    {
      "cell_type": "code",
      "source": [],
      "metadata": {
        "id": "-k9xKMR9CXvm"
      },
      "execution_count": null,
      "outputs": []
    }
  ]
}